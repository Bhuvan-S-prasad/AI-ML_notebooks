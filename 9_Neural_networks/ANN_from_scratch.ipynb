{
  "cells": [
    {
      "cell_type": "code",
      "execution_count": 1,
      "metadata": {
        "id": "kTlUY1gEjmMW"
      },
      "outputs": [],
      "source": [
        "import numpy as np\n"
      ]
    },
    {
      "cell_type": "code",
      "execution_count": 2,
      "metadata": {
        "id": "grwm7BBAkP9c"
      },
      "outputs": [],
      "source": [
        "x = np.array([7,2,25]) #input features\n",
        "\n",
        "\n",
        "actual_val = 85\n",
        "\n",
        "w1, w2, w3 = 0.1, 0.16, 0.1\n",
        "w4, w5, w6 = 0.1, 0.6, 0.5\n",
        "w7, w8 = 0.3, 0.4\n",
        "\n",
        "b1, b2 = -4, -2\n",
        "b3 = 12\n"
      ]
    },
    {
      "cell_type": "code",
      "execution_count": 3,
      "metadata": {
        "id": "OK45PQMcqu9W"
      },
      "outputs": [],
      "source": [
        "def sigmoid(x):\n",
        "  return 1/(1+np.exp(-x))"
      ]
    },
    {
      "cell_type": "code",
      "execution_count": 4,
      "metadata": {
        "id": "HEZd-7HAq2jg"
      },
      "outputs": [],
      "source": [
        "def forward_prop(x):\n",
        "\n",
        "  z1 = w1 * x[0] + w3 * x[1] + w5 * x[2] + b1\n",
        "  z2 = w2 * x[0] + w4 * x[1] + w6 * x[2] + b2\n",
        "\n",
        "  g1 = sigmoid(z1)\n",
        "  g2 = sigmoid(z2)\n",
        "\n",
        "  y_pred = w7 * g1 + w8 * g2 + b3\n",
        "  return z1, z2, g1, g2, y_pred"
      ]
    },
    {
      "cell_type": "code",
      "execution_count": 6,
      "metadata": {
        "id": "ctDfRvs7r5CN"
      },
      "outputs": [],
      "source": [
        "z1, z2, g1, g2, y_pred = forward_prop(x)"
      ]
    },
    {
      "cell_type": "code",
      "execution_count": 7,
      "metadata": {
        "colab": {
          "base_uri": "https://localhost:8080/"
        },
        "id": "HxijFCoir75j",
        "outputId": "2899c25a-2fce-4d02-c976-4f4cdbcadeb5"
      },
      "outputs": [
        {
          "name": "stdout",
          "output_type": "stream",
          "text": [
            "first layer:\n",
            "z1 = 0.1 * 7 + 0.1 * 2 + 0.6 * 25 + -4\n",
            "z1: 11.9\n",
            "g1: 0.999993209641302\n"
          ]
        }
      ],
      "source": [
        "print(f\"first layer:\\nz1 = {w1} * {x[0]} + {w3} * {x[1]} + {w5} * {x[2]} + {b1}\")\n",
        "print(f\"z1: {w1 * x[0] + w3 * x[1] + w5 * x[2] + b1}\")\n",
        "print(f\"g1: {g1}\")"
      ]
    },
    {
      "cell_type": "code",
      "execution_count": 8,
      "metadata": {
        "colab": {
          "base_uri": "https://localhost:8080/"
        },
        "id": "_y4aC5rCtk0X",
        "outputId": "d05ad5b0-3ec1-409e-ccde-d155b2aaa3c7"
      },
      "outputs": [
        {
          "name": "stdout",
          "output_type": "stream",
          "text": [
            "second layer:\n",
            "z1 = 0.16 * 7 + 0.1 * 2 + 0.5 * 25 + -2\n",
            "z2: 11.82\n",
            "g2: 0.999993209641302\n"
          ]
        }
      ],
      "source": [
        "print(f\"second layer:\\nz1 = {w2} * {x[0]} + {w4} * {x[1]} + {w6} * {x[2]} + {b2}\")\n",
        "print(f\"z2: {w2 * x[0] + w4 * x[1] + w6 * x[2] + b2}\")\n",
        "print(f\"g2: {g1}\")"
      ]
    },
    {
      "cell_type": "code",
      "execution_count": 9,
      "metadata": {
        "colab": {
          "base_uri": "https://localhost:8080/"
        },
        "id": "7TlFJqZKuFHt",
        "outputId": "0204026a-0f8d-4aea-d87e-4eaf53080c1c"
      },
      "outputs": [
        {
          "name": "stdout",
          "output_type": "stream",
          "text": [
            "final layer:\n",
            "ypred = 0.3 * 0.999993209641302 + 0.4 * 0.9999926440963977 + 12\n",
            "y_pred: 12.699995020530949\n"
          ]
        }
      ],
      "source": [
        "print(f\"final layer:\\nypred = {w7} * {g1} + {w8} * {g2} + {b3}\")\n",
        "print(f\"y_pred: {y_pred}\")"
      ]
    },
    {
      "cell_type": "code",
      "execution_count": 10,
      "metadata": {
        "colab": {
          "base_uri": "https://localhost:8080/"
        },
        "id": "j1tYOXdjunhD",
        "outputId": "dc7b59fc-1f79-48a0-f222-8a0535f51aee"
      },
      "outputs": [
        {
          "name": "stdout",
          "output_type": "stream",
          "text": [
            "error: 72.30000497946905\n"
          ]
        }
      ],
      "source": [
        "error = actual_val - y_pred\n",
        "print(f\"error: {error}\")"
      ]
    },
    {
      "cell_type": "code",
      "execution_count": 11,
      "metadata": {
        "id": "xgAtlzsAaDa5"
      },
      "outputs": [],
      "source": [
        "learning_rate = 0.1\n",
        "\n",
        "def sigmoid_derivative(x):\n",
        "  return x * (1 - x)\n",
        "\n",
        "\n",
        "def backpropogation(X, x, z1, z2, g1, g2, y_pred):\n",
        "\n",
        "  dc_dy_pred = 2 * (y_pred - actual_val)\n",
        "  dc_dw7 = g1 * dc_dy_pred\n",
        "  dc_dw8 = g2 * dc_dy_pred\n",
        "  dc_db3 = dc_dy_pred\n",
        "\n",
        "  dc_dg1 = w7 * dc_dy_pred\n",
        "  dc_dg2 = w8 * dc_dy_pred\n",
        "\n",
        "  dc_dz1 = sigmoid_derivative(g1) * dc_dg1\n",
        "  dc_dz2 = sigmoid_derivative(g2) * dc_dg2\n",
        "\n",
        "  dc_dw1 = X[0] * dc_dz1\n",
        "  dc_dw2 = X[0] * dc_dz2\n",
        "  dc_dw3 = X[1] * dc_dz1\n",
        "  dc_dw4 = X[1] * dc_dz2\n",
        "  dc_dw5 = X[2] * dc_dz1\n",
        "  dc_dw6 = X[2] * dc_dz2\n",
        "  dc_db1 = dc_dz1\n",
        "  dc_db2 = dc_dz2\n",
        "\n",
        "  return dc_dw1, dc_dw2, dc_dw3, dc_dw4, dc_dw5, dc_dw6, dc_dw7, dc_dw8, dc_db1, dc_db2, dc_db3\n"
      ]
    },
    {
      "cell_type": "code",
      "execution_count": 12,
      "metadata": {
        "id": "_4kPhlYwdMB8"
      },
      "outputs": [],
      "source": [
        "z1, z2, g1, g2, y_pred = forward_prop(x)\n",
        "error = actual_val - y_pred\n",
        "gradients = backpropogation(x, actual_val, z1, z2, g1, g2, y_pred)"
      ]
    },
    {
      "cell_type": "code",
      "execution_count": 14,
      "metadata": {
        "colab": {
          "base_uri": "https://localhost:8080/"
        },
        "id": "4d0By1s0eiWd",
        "outputId": "7d73898a-37f5-4b33-f173-e3f45ab9fcda"
      },
      "outputs": [
        {
          "name": "stdout",
          "output_type": "stream",
          "text": [
            "(np.float64(-0.002061946462793834), np.float64(-0.002978236547855428), np.float64(-0.0005891275607982383), np.float64(-0.0008509247279586937), np.float64(-0.007364094509977979), np.float64(-0.010636559099483672), np.float64(-144.59902807300276), np.float64(-144.59894629520394), np.float64(-0.00029456378039911915), np.float64(-0.00042546236397934687), np.float64(-144.6000099589381))\n"
          ]
        }
      ],
      "source": [
        "print(gradients)"
      ]
    },
    {
      "cell_type": "code",
      "execution_count": 15,
      "metadata": {
        "colab": {
          "base_uri": "https://localhost:8080/"
        },
        "id": "LBPLpxaQeV6i",
        "outputId": "2a4354c7-073b-4232-9e88-1899316e1c59"
      },
      "outputs": [
        {
          "name": "stdout",
          "output_type": "stream",
          "text": [
            "gradients:\n",
            "dc_dw1: -0.002061946462793834\n",
            "dc_dw2: -0.002978236547855428\n",
            "dc_dw3: -0.0005891275607982383\n",
            "dc_dw4: -0.0008509247279586937\n",
            "dc_dw5: -0.007364094509977979\n",
            "dc_dw6: -0.010636559099483672\n",
            "dc_dw7: -144.59902807300276\n",
            "dc_dw8: -144.59894629520394\n",
            "dc_db1: -0.00029456378039911915\n",
            "dc_db2: -0.00042546236397934687\n",
            "dc_db3: -144.6000099589381\n"
          ]
        }
      ],
      "source": [
        "print(f\"gradients:\")\n",
        "print(f\"dc_dw1: {gradients[0]}\")\n",
        "print(f\"dc_dw2: {gradients[1]}\")\n",
        "print(f\"dc_dw3: {gradients[2]}\")\n",
        "print(f\"dc_dw4: {gradients[3]}\")\n",
        "print(f\"dc_dw5: {gradients[4]}\")\n",
        "print(f\"dc_dw6: {gradients[5]}\")\n",
        "print(f\"dc_dw7: {gradients[6]}\")\n",
        "print(f\"dc_dw8: {gradients[7]}\")\n",
        "print(f\"dc_db1: {gradients[8]}\")\n",
        "print(f\"dc_db2: {gradients[9]}\")\n",
        "print(f\"dc_db3: {gradients[10]}\")\n"
      ]
    },
    {
      "cell_type": "code",
      "execution_count": 17,
      "metadata": {
        "colab": {
          "base_uri": "https://localhost:8080/"
        },
        "id": "Kjp-nb6memXK",
        "outputId": "0648ea6b-32a0-4973-813d-44ffecc88d3d"
      },
      "outputs": [
        {
          "name": "stdout",
          "output_type": "stream",
          "text": [
            "updated weights:\n",
            "w1: 0.10041238929255877\n",
            "w2: 0.1617869419287132\n",
            "w3: 0.10005891275607982\n",
            "w4: 0.10008509247279587\n",
            "w5: 0.6007364094509978\n",
            "w6: 0.5010636559099484\n",
            "w7: 14.759902807300277\n",
            "w8: 14.859894629520396\n",
            "b1: -3.99997054362196\n",
            "b2: -1.999957453763602\n",
            "b3: 26.46000099589381\n"
          ]
        }
      ],
      "source": [
        "w1 = w1 - learning_rate * gradients[0]\n",
        "w2 = w2 - learning_rate * gradients[1]\n",
        "w3 = w3 - learning_rate * gradients[2]\n",
        "w4 = w4 - learning_rate * gradients[3]\n",
        "w5 = w5 - learning_rate * gradients[4]\n",
        "w6 = w6 - learning_rate * gradients[5]\n",
        "w7 = w7 - learning_rate * gradients[6]\n",
        "w8 = w8 - learning_rate * gradients[7]\n",
        "b1 = b1 - learning_rate * gradients[8]\n",
        "b2 = b2 - learning_rate * gradients[9]\n",
        "b3 = b3 - learning_rate * gradients[10]\n",
        "\n",
        "\n",
        "print(\"updated weights:\")\n",
        "print(f\"w1: {w1}\")\n",
        "print(f\"w2: {w2}\")\n",
        "print(f\"w3: {w3}\")\n",
        "print(f\"w4: {w4}\")\n",
        "print(f\"w5: {w5}\")\n",
        "print(f\"w6: {w6}\")\n",
        "print(f\"w7: {w7}\")\n",
        "print(f\"w8: {w8}\")\n",
        "print(f\"b1: {b1}\")\n",
        "print(f\"b2: {b2}\")\n",
        "print(f\"b3: {b3}\")\n",
        "\n",
        "\n"
      ]
    },
    {
      "cell_type": "code",
      "execution_count": null,
      "metadata": {
        "id": "si5lEJoHf6dJ"
      },
      "outputs": [],
      "source": []
    }
  ],
  "metadata": {
    "colab": {
      "provenance": []
    },
    "kernelspec": {
      "display_name": "Python 3",
      "name": "python3"
    },
    "language_info": {
      "name": "python"
    }
  },
  "nbformat": 4,
  "nbformat_minor": 0
}
