{
  "cells": [
    {
      "cell_type": "code",
      "execution_count": 1,
      "metadata": {
        "colab": {
          "base_uri": "https://localhost:8080/"
        },
        "id": "aXc8y4epTLGG",
        "outputId": "64bd0179-102f-48c4-cae6-552318e4a8fc"
      },
      "outputs": [
        {
          "name": "stdout",
          "output_type": "stream",
          "text": [
            "\u001b[?25l   \u001b[90m━━━━━━━━━━━━━━━━━━━━━━━━━━━━━━━━━━━━━━━━\u001b[0m \u001b[32m0.0/209.2 kB\u001b[0m \u001b[31m?\u001b[0m eta \u001b[36m-:--:--\u001b[0m\r\u001b[2K   \u001b[91m━━━━━━━━━━━━━━━━━━━━━━━━━━━━━━━━━━━━━━━\u001b[0m\u001b[90m╺\u001b[0m \u001b[32m204.8/209.2 kB\u001b[0m \u001b[31m6.6 MB/s\u001b[0m eta \u001b[36m0:00:01\u001b[0m\r\u001b[2K   \u001b[90m━━━━━━━━━━━━━━━━━━━━━━━━━━━━━━━━━━━━━━━━\u001b[0m \u001b[32m209.2/209.2 kB\u001b[0m \u001b[31m4.8 MB/s\u001b[0m eta \u001b[36m0:00:00\u001b[0m\n",
            "\u001b[2K   \u001b[90m━━━━━━━━━━━━━━━━━━━━━━━━━━━━━━━━━━━━━━━━\u001b[0m \u001b[32m756.0/756.0 kB\u001b[0m \u001b[31m20.2 MB/s\u001b[0m eta \u001b[36m0:00:00\u001b[0m\n",
            "\u001b[2K   \u001b[90m━━━━━━━━━━━━━━━━━━━━━━━━━━━━━━━━━━━━━━━━\u001b[0m \u001b[32m1.6/1.6 MB\u001b[0m \u001b[31m44.4 MB/s\u001b[0m eta \u001b[36m0:00:00\u001b[0m\n",
            "\u001b[?25h"
          ]
        }
      ],
      "source": [
        "!pip install langchain langchain-experimental langchain_google_genai pyvis --quiet"
      ]
    },
    {
      "cell_type": "code",
      "execution_count": null,
      "metadata": {
        "id": "LiA4gK0fXDPG"
      },
      "outputs": [],
      "source": [
        "import os\n",
        "os.environ[\"GOOGLE_API_KEY_1\"] = \"\""
      ]
    },
    {
      "cell_type": "code",
      "execution_count": 7,
      "metadata": {
        "id": "l2_Vo1HpTZ60"
      },
      "outputs": [],
      "source": [
        "from langchain_experimental.graph_transformers import LLMGraphTransformer\n",
        "from langchain_core.documents import Document\n",
        "from langchain_google_genai import ChatGoogleGenerativeAI\n",
        "from google.colab import userdata\n",
        "\n",
        "llm = ChatGoogleGenerativeAI(model=\"models/gemini-2.0-flash\",\n",
        "                             temperature=0,\n",
        "                             google_api_key=userdata.get('GOOGLE_API_KEY_1'))\n",
        "\n",
        "graph_transformers = LLMGraphTransformer(llm=llm)"
      ]
    },
    {
      "cell_type": "code",
      "execution_count": 8,
      "metadata": {
        "id": "THwe-cb3U7W1"
      },
      "outputs": [],
      "source": [
        "text = \"\"\"Alice Smith is a researcher at Stanford University. She specializes in Artificial Intelligence and Machine Learning.\n",
        "Bob Johnson is a professor at MIT. Alice Smith collaborates with Bob Johnson on projects related to Neural Networks.\n",
        "Carol Williams is a data scientist at Google[1]. Google was founded by Larry Page and Sergey Brin.\n",
        "Carol Williams uses TensorFlow, a library created by Google. Alice Smith published a paper titled 'Novel Deep Learning Architectures' in 2024.\n",
        "Bob Johnson reviewed Alice Smith's paper. Stanford University is located in California. Google is headquartered in Mountain View, California.\n",
        "Bob Johnson earned a PhD from Harvard University. Carol Williams previously worked at Amazon. Amazon is a competitor to Google.\n",
        "Larry Page was born in 1973. Sergey Brin was born in Russia.\"\"\""
      ]
    },
    {
      "cell_type": "code",
      "execution_count": 9,
      "metadata": {
        "id": "y4dp5I1cVmvK"
      },
      "outputs": [],
      "source": [
        "documents = [Document(page_content=text)]\n",
        "graph_documents = await graph_transformers.aconvert_to_graph_documents(documents)"
      ]
    },
    {
      "cell_type": "code",
      "execution_count": 10,
      "metadata": {
        "colab": {
          "base_uri": "https://localhost:8080/"
        },
        "id": "ZY7mfveGWGj5",
        "outputId": "0fc5a300-181f-429f-9ba3-56df3d4e1fbc"
      },
      "outputs": [
        {
          "data": {
            "text/plain": [
              "[Node(id='Alice Smith', type='Person', properties={}),\n",
              " Node(id='Stanford University', type='Organization', properties={}),\n",
              " Node(id='Artificial Intelligence', type='Area of study', properties={}),\n",
              " Node(id='Machine Learning', type='Area of study', properties={}),\n",
              " Node(id='Bob Johnson', type='Person', properties={}),\n",
              " Node(id='Mit', type='Organization', properties={}),\n",
              " Node(id='Neural Networks', type='Area of study', properties={}),\n",
              " Node(id='Carol Williams', type='Person', properties={}),\n",
              " Node(id='Google', type='Organization', properties={}),\n",
              " Node(id='Larry Page', type='Person', properties={}),\n",
              " Node(id='Sergey Brin', type='Person', properties={}),\n",
              " Node(id='Tensorflow', type='Software', properties={}),\n",
              " Node(id='Novel Deep Learning Architectures', type='Paper', properties={}),\n",
              " Node(id='2024', type='Time', properties={}),\n",
              " Node(id='California', type='Location', properties={}),\n",
              " Node(id='Mountain View, California', type='Location', properties={}),\n",
              " Node(id='Harvard University', type='Organization', properties={}),\n",
              " Node(id='Amazon', type='Organization', properties={}),\n",
              " Node(id='1973', type='Time', properties={}),\n",
              " Node(id='Russia', type='Location', properties={})]"
            ]
          },
          "execution_count": 10,
          "metadata": {},
          "output_type": "execute_result"
        }
      ],
      "source": [
        "graph_documents[0].nodes"
      ]
    },
    {
      "cell_type": "code",
      "execution_count": 11,
      "metadata": {
        "colab": {
          "base_uri": "https://localhost:8080/"
        },
        "id": "BeLemd8ScRvu",
        "outputId": "652af80d-7998-42d1-c0f5-904fb6df2f81"
      },
      "outputs": [
        {
          "data": {
            "text/plain": [
              "[Relationship(source=Node(id='Alice Smith', type='Person', properties={}), target=Node(id='Stanford University', type='Organization', properties={}), type='EMPLOYEE_OF', properties={}),\n",
              " Relationship(source=Node(id='Alice Smith', type='Person', properties={}), target=Node(id='Artificial Intelligence', type='Area of study', properties={}), type='SPECIALIZES_IN', properties={}),\n",
              " Relationship(source=Node(id='Alice Smith', type='Person', properties={}), target=Node(id='Machine Learning', type='Area of study', properties={}), type='SPECIALIZES_IN', properties={}),\n",
              " Relationship(source=Node(id='Bob Johnson', type='Person', properties={}), target=Node(id='Mit', type='Organization', properties={}), type='PROFESSOR_AT', properties={}),\n",
              " Relationship(source=Node(id='Alice Smith', type='Person', properties={}), target=Node(id='Bob Johnson', type='Person', properties={}), type='COLLABORATES_WITH', properties={}),\n",
              " Relationship(source=Node(id='Alice Smith', type='Person', properties={}), target=Node(id='Neural Networks', type='Area of study', properties={}), type='WORKS_ON', properties={}),\n",
              " Relationship(source=Node(id='Bob Johnson', type='Person', properties={}), target=Node(id='Neural Networks', type='Area of study', properties={}), type='WORKS_ON', properties={}),\n",
              " Relationship(source=Node(id='Carol Williams', type='Person', properties={}), target=Node(id='Google', type='Organization', properties={}), type='EMPLOYEE_OF', properties={}),\n",
              " Relationship(source=Node(id='Larry Page', type='Person', properties={}), target=Node(id='Google', type='Organization', properties={}), type='FOUNDED', properties={}),\n",
              " Relationship(source=Node(id='Sergey Brin', type='Person', properties={}), target=Node(id='Google', type='Organization', properties={}), type='FOUNDED', properties={}),\n",
              " Relationship(source=Node(id='Carol Williams', type='Person', properties={}), target=Node(id='Tensorflow', type='Software', properties={}), type='USES', properties={}),\n",
              " Relationship(source=Node(id='Google', type='Organization', properties={}), target=Node(id='Tensorflow', type='Software', properties={}), type='CREATOR_OF', properties={}),\n",
              " Relationship(source=Node(id='Alice Smith', type='Person', properties={}), target=Node(id='Novel Deep Learning Architectures', type='Paper', properties={}), type='AUTHOR_OF', properties={}),\n",
              " Relationship(source=Node(id='Novel Deep Learning Architectures', type='Paper', properties={}), target=Node(id='2024', type='Time', properties={}), type='PUBLISHED_IN', properties={}),\n",
              " Relationship(source=Node(id='Bob Johnson', type='Person', properties={}), target=Node(id='Novel Deep Learning Architectures', type='Paper', properties={}), type='REVIEWED', properties={}),\n",
              " Relationship(source=Node(id='Stanford University', type='Organization', properties={}), target=Node(id='California', type='Location', properties={}), type='LOCATED_IN', properties={}),\n",
              " Relationship(source=Node(id='Google', type='Organization', properties={}), target=Node(id='Mountain View, California', type='Location', properties={}), type='HEADQUARTERED_IN', properties={}),\n",
              " Relationship(source=Node(id='Bob Johnson', type='Person', properties={}), target=Node(id='Harvard University', type='Organization', properties={}), type='EDUCATION', properties={}),\n",
              " Relationship(source=Node(id='Carol Williams', type='Person', properties={}), target=Node(id='Amazon', type='Organization', properties={}), type='PREVIOUS_EMPLOYER', properties={}),\n",
              " Relationship(source=Node(id='Amazon', type='Organization', properties={}), target=Node(id='Google', type='Organization', properties={}), type='COMPETITOR', properties={}),\n",
              " Relationship(source=Node(id='Larry Page', type='Person', properties={}), target=Node(id='1973', type='Time', properties={}), type='BORN_IN', properties={}),\n",
              " Relationship(source=Node(id='Sergey Brin', type='Person', properties={}), target=Node(id='Russia', type='Location', properties={}), type='BORN_IN', properties={})]"
            ]
          },
          "execution_count": 11,
          "metadata": {},
          "output_type": "execute_result"
        }
      ],
      "source": [
        "graph_documents[0].relationships"
      ]
    },
    {
      "cell_type": "code",
      "execution_count": null,
      "metadata": {
        "id": "UdDBKCHxMFI_"
      },
      "outputs": [],
      "source": []
    }
  ],
  "metadata": {
    "colab": {
      "provenance": []
    },
    "kernelspec": {
      "display_name": "Python 3",
      "name": "python3"
    },
    "language_info": {
      "name": "python"
    }
  },
  "nbformat": 4,
  "nbformat_minor": 0
}
